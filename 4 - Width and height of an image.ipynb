{
 "cells": [
  {
   "cell_type": "markdown",
   "id": "f0d4b436",
   "metadata": {},
   "source": [
    "## 4️⃣ - Width and height of an image"
   ]
  },
  {
   "cell_type": "code",
   "execution_count": 1,
   "id": "048762af",
   "metadata": {},
   "outputs": [],
   "source": [
    "import cv2\n",
    "import numpy as np\n",
    "import matplotlib.pyplot as plt"
   ]
  },
  {
   "cell_type": "code",
   "execution_count": 2,
   "id": "2ff3019e",
   "metadata": {},
   "outputs": [
    {
     "name": "stdout",
     "output_type": "stream",
     "text": [
      "The width of Image is 735 and the Height is 1100\n",
      "The width of Image is 735 and the Height is 1100 and the dimonstion is 3\n"
     ]
    }
   ],
   "source": [
    "image = cv2.imread(\"/Users/alireza/Coding/OpenCV_Learning/OpenCV_Learnings/Images/img.jpg\")\n",
    "width , height = image.shape[:2] # third parameter is RGB dimension\n",
    "print(\"The width of Image is {} and the Height is {}\".format(width, height))\n",
    "width , height , dimonsion = image.shape\n",
    "print(\"The width of Image is {} and the Height is {} and the dimonstion is {}\".format(width, height, dimonsion))\n"
   ]
  },
  {
   "cell_type": "code",
   "execution_count": 3,
   "id": "ca2cd5f0",
   "metadata": {},
   "outputs": [
    {
     "name": "stdout",
     "output_type": "stream",
     "text": [
      "(735, 1100, 3)\n"
     ]
    }
   ],
   "source": [
    "print(image.shape)"
   ]
  },
  {
   "cell_type": "code",
   "execution_count": null,
   "id": "d525da84",
   "metadata": {},
   "outputs": [],
   "source": []
  }
 ],
 "metadata": {
  "kernelspec": {
   "display_name": "Python 3",
   "language": "python",
   "name": "python3"
  },
  "language_info": {
   "codemirror_mode": {
    "name": "ipython",
    "version": 3
   },
   "file_extension": ".py",
   "mimetype": "text/x-python",
   "name": "python",
   "nbconvert_exporter": "python",
   "pygments_lexer": "ipython3",
   "version": "3.11.11"
  }
 },
 "nbformat": 4,
 "nbformat_minor": 5
}
