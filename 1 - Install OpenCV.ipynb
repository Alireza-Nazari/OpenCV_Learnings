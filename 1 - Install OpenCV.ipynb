{
 "cells": [
  {
   "cell_type": "markdown",
   "id": "f26c37f8",
   "metadata": {},
   "source": [
    "#### 📸 OpenCV Learning Journey\n",
    "This repository contains my personal notes, code experiments, and projects as I learn and explore the fundamentals and advanced features of OpenCV, the open-source computer vision library.\n",
    "\n",
    "🔍 Topics Covered (in progress):\n",
    "\n",
    "Image and video processing basics\n",
    "\n",
    "Drawing shapes, text, and annotations\n",
    "\n",
    "Filters, transformations, and color spaces\n",
    "\n",
    "Face and object detection\n",
    "\n",
    "Contours, edge detection, and masking\n",
    "\n",
    "Real-time webcam applications\n",
    "\n",
    "Integration with other tools (e.g., NumPy, MediaPipe)\n",
    "\n",
    "🛠️ Why this repo?\n",
    "To document my hands-on journey into computer vision and to build a reference for future projects and others who are learning too."
   ]
  },
  {
   "cell_type": "markdown",
   "id": "f0db8c03",
   "metadata": {},
   "source": [
    "# What is OpenCV ?\n",
    "OpenCV (Open Source Computer Vision Library) is an open-source computer vision and machine learning library. It allows us to process images and videos, detect objects, faces and even handwriting. This tutorial will guide us through image and video processing from the basics to advanced topics using Python and OpenCV. We'll learn how to handle image transformations, feature extraction, object detection and more."
   ]
  },
  {
   "cell_type": "markdown",
   "id": "da2955fc",
   "metadata": {},
   "source": [
    "## 1️⃣ - Install OpenCV"
   ]
  },
  {
   "cell_type": "code",
   "execution_count": 1,
   "id": "f5177a1c",
   "metadata": {},
   "outputs": [
    {
     "name": "stdout",
     "output_type": "stream",
     "text": [
      "Requirement already satisfied: opencv-python in /opt/homebrew/lib/python3.11/site-packages (4.11.0.86)\n",
      "Requirement already satisfied: numpy>=1.21.2 in /opt/homebrew/lib/python3.11/site-packages (from opencv-python) (1.26.4)\n",
      "\n",
      "\u001b[1m[\u001b[0m\u001b[34;49mnotice\u001b[0m\u001b[1;39;49m]\u001b[0m\u001b[39;49m A new release of pip is available: \u001b[0m\u001b[31;49m24.3.1\u001b[0m\u001b[39;49m -> \u001b[0m\u001b[32;49m25.1.1\u001b[0m\n",
      "\u001b[1m[\u001b[0m\u001b[34;49mnotice\u001b[0m\u001b[1;39;49m]\u001b[0m\u001b[39;49m To update, run: \u001b[0m\u001b[32;49mpython3.11 -m pip install --upgrade pip\u001b[0m\n",
      "Note: you may need to restart the kernel to use updated packages.\n"
     ]
    }
   ],
   "source": [
    "pip install opencv-python"
   ]
  }
 ],
 "metadata": {
  "kernelspec": {
   "display_name": "Python 3",
   "language": "python",
   "name": "python3"
  },
  "language_info": {
   "codemirror_mode": {
    "name": "ipython",
    "version": 3
   },
   "file_extension": ".py",
   "mimetype": "text/x-python",
   "name": "python",
   "nbconvert_exporter": "python",
   "pygments_lexer": "ipython3",
   "version": "3.11.11"
  }
 },
 "nbformat": 4,
 "nbformat_minor": 5
}
