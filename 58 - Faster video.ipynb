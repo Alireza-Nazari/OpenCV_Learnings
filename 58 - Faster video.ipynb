{
 "cells": [
  {
   "cell_type": "markdown",
   "id": "d366f510",
   "metadata": {},
   "source": [
    "## 58 - Faster video"
   ]
  },
  {
   "cell_type": "code",
   "execution_count": 1,
   "id": "61cbf86a",
   "metadata": {},
   "outputs": [],
   "source": [
    "import cv2\n",
    "cap = cv2.VideoCapture('/Users/alireza/Coding/OpenCV_Learning/OpenCV_Learnings/Videos/drummer.mp4')\n",
    "\n",
    "# get FPS of input video\n",
    "fps = cap.get(cv2.CAP_PROP_FPS)\n",
    "\n",
    "# define output video and it's FPS\n",
    "output_file = 'output.mp4'\n",
    "output_fps = fps * 2\n",
    "\n",
    "# define VideoWriter object\n",
    "fourcc = cv2.VideoWriter_fourcc(*'mp4v')\n",
    "out = cv2.VideoWriter(output_file, fourcc, output_fps,\n",
    "                      (int(cap.get(3)), int(cap.get(4))))\n",
    "\n",
    "# read and write frams for output video\n",
    "while cap.isOpened():\n",
    "    ret, frame = cap.read()\n",
    "    if not ret:\n",
    "        break\n",
    "\n",
    "    out.write(frame)\n",
    "\n",
    "# release resources\n",
    "cap.release()\n",
    "out.release()\n",
    "cv2.destroyAllWindows()\n",
    "\n"
   ]
  },
  {
   "cell_type": "markdown",
   "id": "aa55ee06",
   "metadata": {},
   "source": [
    "### Source :\n",
    "\n",
    "https://www.geeksforgeeks.org/python/opencv-python-tutorial/"
   ]
  }
 ],
 "metadata": {
  "kernelspec": {
   "display_name": "Python 3",
   "language": "python",
   "name": "python3"
  },
  "language_info": {
   "codemirror_mode": {
    "name": "ipython",
    "version": 3
   },
   "file_extension": ".py",
   "mimetype": "text/x-python",
   "name": "python",
   "nbconvert_exporter": "python",
   "pygments_lexer": "ipython3",
   "version": "3.11.11"
  }
 },
 "nbformat": 4,
 "nbformat_minor": 5
}
