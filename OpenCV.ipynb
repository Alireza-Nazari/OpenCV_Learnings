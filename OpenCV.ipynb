{
 "cells": [
  {
   "cell_type": "markdown",
   "id": "1f745588",
   "metadata": {},
   "source": [
    "#### 📸 OpenCV Learning Journey\n",
    "This repository contains my personal notes, code experiments, and projects as I learn and explore the fundamentals and advanced features of OpenCV, the open-source computer vision library.\n",
    "\n",
    "🔍 Topics Covered (in progress):\n",
    "\n",
    "Image and video processing basics\n",
    "\n",
    "Drawing shapes, text, and annotations\n",
    "\n",
    "Filters, transformations, and color spaces\n",
    "\n",
    "Face and object detection\n",
    "\n",
    "Contours, edge detection, and masking\n",
    "\n",
    "Real-time webcam applications\n",
    "\n",
    "Integration with other tools (e.g., NumPy, MediaPipe)\n",
    "\n",
    "🛠️ Why this repo?\n",
    "To document my hands-on journey into computer vision and to build a reference for future projects and others who are learning too."
   ]
  },
  {
   "cell_type": "markdown",
   "id": "9ecad301",
   "metadata": {},
   "source": [
    "# What is OpenCV ?\n",
    "OpenCV (Open Source Computer Vision Library) is an open-source computer vision and machine learning library. It allows us to process images and videos, detect objects, faces and even handwriting. This tutorial will guide us through image and video processing from the basics to advanced topics using Python and OpenCV. We'll learn how to handle image transformations, feature extraction, object detection and more."
   ]
  },
  {
   "cell_type": "markdown",
   "id": "01bb367d",
   "metadata": {},
   "source": [
    "## 1️⃣ - Install OpenCV"
   ]
  },
  {
   "cell_type": "code",
   "execution_count": 11,
   "id": "caba5a7d",
   "metadata": {},
   "outputs": [
    {
     "name": "stdout",
     "output_type": "stream",
     "text": [
      "Requirement already satisfied: opencv-python in /opt/homebrew/lib/python3.11/site-packages (4.11.0.86)\n",
      "Requirement already satisfied: numpy>=1.21.2 in /opt/homebrew/lib/python3.11/site-packages (from opencv-python) (1.26.4)\n",
      "\n",
      "\u001b[1m[\u001b[0m\u001b[34;49mnotice\u001b[0m\u001b[1;39;49m]\u001b[0m\u001b[39;49m A new release of pip is available: \u001b[0m\u001b[31;49m24.3.1\u001b[0m\u001b[39;49m -> \u001b[0m\u001b[32;49m25.1.1\u001b[0m\n",
      "\u001b[1m[\u001b[0m\u001b[34;49mnotice\u001b[0m\u001b[1;39;49m]\u001b[0m\u001b[39;49m To update, run: \u001b[0m\u001b[32;49mpython3.11 -m pip install --upgrade pip\u001b[0m\n",
      "Note: you may need to restart the kernel to use updated packages.\n"
     ]
    }
   ],
   "source": [
    "pip install opencv-python"
   ]
  },
  {
   "cell_type": "markdown",
   "id": "ff687d01",
   "metadata": {},
   "source": [
    "## 2️⃣ - Import OpenCV"
   ]
  },
  {
   "cell_type": "code",
   "execution_count": 12,
   "id": "0bdcc732",
   "metadata": {},
   "outputs": [],
   "source": [
    "import cv2"
   ]
  },
  {
   "cell_type": "markdown",
   "id": "b507b25a",
   "metadata": {},
   "source": [
    "## 3️⃣ - Reading an image"
   ]
  },
  {
   "cell_type": "code",
   "execution_count": 13,
   "id": "156227b5",
   "metadata": {},
   "outputs": [
    {
     "data": {
      "text/plain": [
       "array([[[156,  99,  90],\n",
       "        [155,  98,  89],\n",
       "        [154,  97,  88],\n",
       "        ...,\n",
       "        [184, 170, 198],\n",
       "        [183, 168, 199],\n",
       "        [183, 168, 199]],\n",
       "\n",
       "       [[152,  95,  86],\n",
       "        [152,  95,  86],\n",
       "        [151,  94,  85],\n",
       "        ...,\n",
       "        [181, 167, 191],\n",
       "        [182, 165, 192],\n",
       "        [180, 165, 192]],\n",
       "\n",
       "       [[147,  90,  81],\n",
       "        [147,  90,  81],\n",
       "        [147,  90,  81],\n",
       "        ...,\n",
       "        [188, 169, 188],\n",
       "        [189, 168, 190],\n",
       "        [188, 169, 190]],\n",
       "\n",
       "       ...,\n",
       "\n",
       "       [[ 64,  53,  56],\n",
       "        [ 68,  57,  60],\n",
       "        [ 73,  62,  65],\n",
       "        ...,\n",
       "        [ 72,  90, 131],\n",
       "        [ 71,  91, 132],\n",
       "        [ 71,  91, 132]],\n",
       "\n",
       "       [[ 64,  53,  56],\n",
       "        [ 68,  57,  60],\n",
       "        [ 72,  61,  64],\n",
       "        ...,\n",
       "        [ 71,  89, 130],\n",
       "        [ 69,  89, 130],\n",
       "        [ 69,  89, 130]],\n",
       "\n",
       "       [[ 62,  51,  54],\n",
       "        [ 65,  54,  57],\n",
       "        [ 69,  58,  61],\n",
       "        ...,\n",
       "        [ 72,  90, 131],\n",
       "        [ 70,  90, 131],\n",
       "        [ 70,  90, 131]]], dtype=uint8)"
      ]
     },
     "execution_count": 13,
     "metadata": {},
     "output_type": "execute_result"
    }
   ],
   "source": [
    "image = cv2.imread(\"/Users/alireza/Coding/OpenCV_Learning/OpenCV_Learnings/img.jpg\")\n",
    "image # if we want to show the image we need to use imshow or matplotlib"
   ]
  },
  {
   "cell_type": "markdown",
   "id": "e9256999",
   "metadata": {},
   "source": [
    "## 4️⃣ - Width and height of an image"
   ]
  },
  {
   "cell_type": "code",
   "execution_count": 14,
   "id": "33b1d2a2",
   "metadata": {},
   "outputs": [
    {
     "name": "stdout",
     "output_type": "stream",
     "text": [
      "The width of Image is 735 and the Height is 1100\n",
      "The width of Image is 735 and the Height is 1100 and the dimonstion is 3\n"
     ]
    }
   ],
   "source": [
    "image = cv2.imread(\"/Users/alireza/Coding/OpenCV_Learning/OpenCV_Learnings/img.jpg\")\n",
    "width , height = image.shape[:2] # third parameter is RGB dimension\n",
    "print(\"The width of Image is {} and the Height is {}\".format(width, height))\n",
    "width , height , dimonsion = image.shape\n",
    "print(\"The width of Image is {} and the Height is {} and the dimonstion is {}\".format(width, height, dimonsion))\n"
   ]
  },
  {
   "cell_type": "code",
   "execution_count": 15,
   "id": "823a9ff2",
   "metadata": {},
   "outputs": [
    {
     "name": "stdout",
     "output_type": "stream",
     "text": [
      "(735, 1100, 3)\n"
     ]
    }
   ],
   "source": [
    "print(image.shape)"
   ]
  },
  {
   "cell_type": "markdown",
   "id": "50811b3f",
   "metadata": {},
   "source": [
    "## 5️⃣ - Extracting the RGB Values of a Pixel "
   ]
  },
  {
   "cell_type": "code",
   "execution_count": 16,
   "id": "101311cd",
   "metadata": {},
   "outputs": [
    {
     "name": "stdout",
     "output_type": "stream",
     "text": [
      "The value of B is 164 and G is 208 and R is 239\n",
      "B is 164\n",
      "G is 208\n",
      "R is 239\n"
     ]
    }
   ],
   "source": [
    "image = cv2.imread(\"/Users/alireza/Coding/OpenCV_Learning/OpenCV_Learnings/img.jpg\")\n",
    "B , G , R = image[100 , 10]  # number of pixel\n",
    "    #if dont put [100 , 10] size ====> ERROR ========> we are randomly choosing a pixel\n",
    "print(\"The value of B is {} and G is {} and R is {}\".format(B,G,R))\n",
    "\n",
    "\n",
    "B = image[100 ,10 ,0]\n",
    "print(\"B is {}\".format(B))\n",
    "\n",
    "G = image[100 ,10 ,1]\n",
    "print(\"G is {}\".format(G))\n",
    "\n",
    "R = image[100 ,10 ,2]\n",
    "print(\"R is {}\".format(R))\n"
   ]
  },
  {
   "cell_type": "markdown",
   "id": "af3e549e",
   "metadata": {},
   "source": [
    "## 6️⃣ - Extracting the Region of Interest (ROI) \n"
   ]
  },
  {
   "cell_type": "code",
   "execution_count": 19,
   "id": "b8f8f584",
   "metadata": {},
   "outputs": [
    {
     "name": "stdout",
     "output_type": "stream",
     "text": [
      "<class 'numpy.ndarray'>\n"
     ]
    }
   ],
   "source": [
    "print(type(image))\n"
   ]
  },
  {
   "cell_type": "code",
   "execution_count": null,
   "id": "503ea207",
   "metadata": {},
   "outputs": [
    {
     "data": {
      "text/plain": [
       "' cv2.waitKey(0) literally means:\\n“Wait forever until a key is pressed.” '"
      ]
     },
     "execution_count": 20,
     "metadata": {},
     "output_type": "execute_result"
    }
   ],
   "source": [
    "ROI = image[10 : 100 , 50 : 150]\n",
    "ROI =cv2.imshow(\"ROI\" , ROI)     # imshow() is not working in Jupyter environment , instead we use matplotlib\n",
    "cv2.waitKey(1000)\n",
    "''' cv2.waitKey(0) literally means:\n",
    "“Wait forever until a key is pressed.” '''"
   ]
  },
  {
   "cell_type": "markdown",
   "id": "14091be8",
   "metadata": {},
   "source": [
    "## 7️⃣ - "
   ]
  },
  {
   "cell_type": "markdown",
   "id": "6ac4a1a4",
   "metadata": {},
   "source": [
    "## 8️⃣ - "
   ]
  },
  {
   "cell_type": "markdown",
   "id": "fd1f1f25",
   "metadata": {},
   "source": [
    "## 9️⃣ - "
   ]
  },
  {
   "cell_type": "markdown",
   "id": "cc61c89a",
   "metadata": {},
   "source": [
    "## 🔟 -"
   ]
  },
  {
   "cell_type": "markdown",
   "id": "1255e52b",
   "metadata": {},
   "source": []
  }
 ],
 "metadata": {
  "kernelspec": {
   "display_name": "Python 3",
   "language": "python",
   "name": "python3"
  },
  "language_info": {
   "codemirror_mode": {
    "name": "ipython",
    "version": 3
   },
   "file_extension": ".py",
   "mimetype": "text/x-python",
   "name": "python",
   "nbconvert_exporter": "python",
   "pygments_lexer": "ipython3",
   "version": "3.11.11"
  }
 },
 "nbformat": 4,
 "nbformat_minor": 5
}
