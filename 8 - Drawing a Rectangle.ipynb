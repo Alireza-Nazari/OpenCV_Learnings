{
 "cells": [
  {
   "cell_type": "markdown",
   "id": "b657da5c",
   "metadata": {},
   "source": [
    "## 8️⃣ - Drawing a Rectangle\n",
    "We can draw a rectangle on the image using rectangle() method. It takes in 5 arguments: \n",
    "\n",
    "Image /\n",
    "Top-left corner co-ordinates /\n",
    "Bottom-right corner co-ordinates  /\n",
    "Color (in BGR format)  /\n",
    "Line width  "
   ]
  },
  {
   "cell_type": "code",
   "execution_count": 1,
   "id": "58ddddd8",
   "metadata": {},
   "outputs": [],
   "source": [
    "import cv2\n",
    "import numpy as np\n",
    "import matplotlib.pyplot as plt"
   ]
  },
  {
   "cell_type": "code",
   "execution_count": 3,
   "id": "f4657d50",
   "metadata": {},
   "outputs": [
    {
     "data": {
      "text/plain": [
       "-1"
      ]
     },
     "execution_count": 3,
     "metadata": {},
     "output_type": "execute_result"
    }
   ],
   "source": [
    "image = cv2.imread(\"/Users/alireza/Coding/OpenCV_Learning/OpenCV_Learnings/Images/img.jpg\")\n",
    "# We are copying the original image,\n",
    "# as it is an in-place operation.\n",
    "image = image.copy()\n",
    "rectangled_image = cv2.rectangle(image , (10,100) , (100,500) , (200,100,2) , 4)\n",
    "cv2.waitKey(1000)"
   ]
  }
 ],
 "metadata": {
  "kernelspec": {
   "display_name": "Python 3",
   "language": "python",
   "name": "python3"
  },
  "language_info": {
   "codemirror_mode": {
    "name": "ipython",
    "version": 3
   },
   "file_extension": ".py",
   "mimetype": "text/x-python",
   "name": "python",
   "nbconvert_exporter": "python",
   "pygments_lexer": "ipython3",
   "version": "3.11.11"
  }
 },
 "nbformat": 4,
 "nbformat_minor": 5
}
